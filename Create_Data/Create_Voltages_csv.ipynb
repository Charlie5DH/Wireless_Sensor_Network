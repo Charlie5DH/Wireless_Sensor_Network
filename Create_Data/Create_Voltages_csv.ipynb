{
 "cells": [
  {
   "cell_type": "code",
   "execution_count": 1,
   "metadata": {},
   "outputs": [],
   "source": [
    "import numpy as np\n",
    "import pandas as pd"
   ]
  },
  {
   "cell_type": "code",
   "execution_count": 36,
   "metadata": {},
   "outputs": [],
   "source": [
    "# defining some constants\n",
    "Type=['Network Coordinator', 'Radio - 2.4 GHz','Acquisition - Temperature',\n",
    "      'Acquisition - Current / Voltage', 'Power - Solar Panel', 'Power - AC/DC Input']\n",
    "\n",
    "Modules={\"00.57.FE.04\":'Net-Coordinator',\n",
    "         \"00.57.FE.0E\":'Radio-2.4 GHz',\n",
    "         \"00.57.FE.0F\":'Radio-2.4 GHz',\n",
    "         \"00.57.FE.06\":'Radio-2.4 GHz',\n",
    "         \"00.57.FE.09\":'Radio-2.4 GHz',\n",
    "         \"00.57.FE.01\":'Radio-2.4 GHz',\n",
    "         \"00.57.FE.05\":'Radio-2.4 GHz',\n",
    "         \"00.57.FE.03\":'Radio-2.4 GHz',\n",
    "         \"29.E5.5A.24\":'Acq-Tempe',\n",
    "         \"A7.CB.0A.C0\":'Acq-Current/Volt',\n",
    "         \"34.B2.9F.A9\":'P-Solar Panel',\n",
    "         \"01.E9.39.32\":'Acq-Current/Volt',\n",
    "         \"A4.0D.82.38\":'P-AC/DC Input',\n",
    "         \"9F.8D.AC.91\":'Acq-Tempe', \n",
    "         \"50.39.E2.80\":'P-Solar Panel'}\n",
    "\n",
    "column_names=['Timestamp','Module','Type','Temp_Mod', 'VBus', 'PT100(1)', 'PT100(2)',\n",
    "              'Lvl_Dim', 'Lvl_Drain', 'V_MPPT', 'V_Panel', 'VBat', 'V_Supp', 'Temp_Oil', 'Temp_gab']\n",
    "cols_temp = ['Timestamp','Module','Type','Temp_Mod', 'VBus']\n",
    "\n",
    "folder_path = 'Data/Radio_Voltage/'\n",
    "\n",
    "year = ['2017', '2018', '2019', '2020']\n",
    "month = [\"01\", \"02\", \"03\", \"04\" ,\"05\", \"06\", \"07\", \"08\", \"09\", \"10\", \"11\", \"12\"]\n",
    "day = [\"01\", \"02\", \"03\", \"04\", \"05\", \"06\", \"07\", \"08\", \"09\", \"10\", \"11\", \"12\", \"13\", \"14\", \n",
    "     \"15\", \"16\", \"17\", \"18\", \"19\", \"20\", \"21\", \"22\", \"23\", \"24\", \"25\", \"26\", \"27\", \"28\", \"29\", \"30\", \"31\"]"
   ]
  },
  {
   "cell_type": "code",
   "execution_count": 37,
   "metadata": {},
   "outputs": [],
   "source": [
    "df = pd.DataFrame(data = None, columns=['Timestamp','Module','Type','VBus'])"
   ]
  },
  {
   "cell_type": "code",
   "execution_count": 41,
   "metadata": {
    "scrolled": true
   },
   "outputs": [
    {
     "name": "stdout",
     "output_type": "stream",
     "text": [
      "Year 2017 Mont 10\n",
      "Year 2017 Mont 11\n",
      "Year 2017 Mont 12\n",
      "Year 2018 Mont 01\n",
      "Year 2018 Mont 02\n",
      "Year 2018 Mont 03\n",
      "Year 2018 Mont 04\n",
      "Year 2018 Mont 05\n",
      "Year 2018 Mont 06\n",
      "Year 2018 Mont 07\n",
      "Year 2018 Mont 08\n",
      "Year 2018 Mont 09\n",
      "Year 2018 Mont 10\n",
      "Year 2018 Mont 11\n",
      "Year 2018 Mont 12\n",
      "Year 2019 Mont 01\n",
      "Year 2019 Mont 02\n",
      "Year 2019 Mont 03\n",
      "Year 2019 Mont 04\n",
      "Year 2019 Mont 05\n",
      "Year 2019 Mont 06\n",
      "Year 2019 Mont 07\n",
      "Year 2019 Mont 08\n",
      "Year 2019 Mont 09\n",
      "Year 2019 Mont 10\n",
      "Year 2019 Mont 11\n",
      "Year 2019 Mont 12\n",
      "Year 2020 Mont 01\n",
      "Year 2020 Mont 02\n",
      "Year 2020 Mont 03\n",
      "Year 2020 Mont 04\n",
      "Year 2020 Mont 05\n",
      "Year 2020 Mont 06\n",
      "Year 2020 Mont 07\n",
      "Year 2020 Mont 08\n",
      "Year 2020 Mont 09\n",
      "Year 2020 Mont 10\n",
      "Year 2020 Mont 11\n",
      "Year 2020 Mont 12\n"
     ]
    }
   ],
   "source": [
    "for y in year:\n",
    "    if y == '2017':\n",
    "        for m in month[9:]:\n",
    "            for d in day:\n",
    "                for module in Modules:\n",
    "                    file_path = folder_path + y + '/' + m + '/' + d + '/' + module + '.txt'\n",
    "                    df_temp = pd.read_csv(file_path, sep='\\t', skiprows=1, names=['Timestamp','VBus'])\n",
    "                    df_temp['Type']= Modules[module]\n",
    "                    df_temp['Module']= module\n",
    "                    df_temp = df_temp[['Timestamp','Module','Type','VBus']]\n",
    "                    df = pd.concat([df, df_temp], axis=0)\n",
    "            print('Year {} Mont {}'.format(y,m))\n",
    "    else:\n",
    "        for m in month:\n",
    "            for d in day:\n",
    "                for module in Modules:\n",
    "                    file_path = folder_path + y + '/' + m + '/' + d + '/' + module + '.txt'\n",
    "                    df_temp = pd.read_csv(file_path, sep='\\t', skiprows=1, names=['Timestamp','VBus'])\n",
    "                    df_temp['Type']= Modules[module]\n",
    "                    df_temp['Module']= module\n",
    "                    df_temp = df_temp[['Timestamp','Module','Type','VBus']]\n",
    "                    df = pd.concat([df, df_temp], axis=0)\n",
    "            print('Year {} Mont {}'.format(y,m))\n",
    "df.to_csv('Modules_Voltage.csv')"
   ]
  },
  {
   "cell_type": "code",
   "execution_count": 43,
   "metadata": {},
   "outputs": [],
   "source": [
    "df.to_csv('Modules_Voltage.csv')"
   ]
  },
  {
   "cell_type": "code",
   "execution_count": null,
   "metadata": {},
   "outputs": [],
   "source": []
  }
 ],
 "metadata": {
  "kernelspec": {
   "display_name": "Python 3",
   "language": "python",
   "name": "python3"
  },
  "language_info": {
   "codemirror_mode": {
    "name": "ipython",
    "version": 3
   },
   "file_extension": ".py",
   "mimetype": "text/x-python",
   "name": "python",
   "nbconvert_exporter": "python",
   "pygments_lexer": "ipython3",
   "version": "3.7.4"
  }
 },
 "nbformat": 4,
 "nbformat_minor": 4
}
