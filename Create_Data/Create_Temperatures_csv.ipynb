{
 "cells": [
  {
   "cell_type": "code",
   "execution_count": 1,
   "metadata": {},
   "outputs": [],
   "source": [
    "import os\n",
    "import numpy as np\n",
    "import pandas as pd\n",
    "import matplotlib.pyplot as plt\n",
    "import seaborn as sns\n",
    "from scipy import stats"
   ]
  },
  {
   "cell_type": "code",
   "execution_count": 2,
   "metadata": {},
   "outputs": [],
   "source": [
    "# Styles from Seaborn\n",
    "sns.set(style='whitegrid', palette='Set2', font_scale=1.2)\n",
    "#sns.set(style='whitegrid', palette='muted', font_scale=1.2)"
   ]
  },
  {
   "cell_type": "code",
   "execution_count": 3,
   "metadata": {},
   "outputs": [],
   "source": [
    "# defining some constants\n",
    "Type=['Network Coordinator', 'Radio - 2.4 GHz','Acquisition - Temperature',\n",
    "      'Acquisition - Current / Voltage', 'Power - Solar Panel', 'Power - AC/DC Input']\n",
    "\n",
    "Modules={\"00.57.FE.04\":'Net-Coordinator',\n",
    "         \"00.57.FE.0E\":'Radio-2.4 GHz',\n",
    "         \"00.57.FE.0F\":'Radio-2.4 GHz',\n",
    "         \"00.57.FE.06\":'Radio-2.4 GHz',\n",
    "         \"00.57.FE.09\":'Radio-2.4 GHz',\n",
    "         \"00.57.FE.01\":'Radio-2.4 GHz',\n",
    "         \"00.57.FE.05\":'Radio-2.4 GHz',\n",
    "         \"00.57.FE.03\":'Radio-2.4 GHz',\n",
    "         \"29.E5.5A.24\":'Acq-Tempe',\n",
    "         \"A7.CB.0A.C0\":'Acq-Current/Volt',\n",
    "         \"34.B2.9F.A9\":'P-Solar Panel',\n",
    "         \"01.E9.39.32\":'Acq-Current/Volt',\n",
    "         \"A4.0D.82.38\":'P-AC/DC Input',\n",
    "         \"9F.8D.AC.91\":'Acq-Tempe',\n",
    "         \"50.39.E2.80\":'P-Solar Panel'}\n",
    "\n",
    "column_names=['Timestamp','Module','Type','Temp_Mod', 'VBus', 'PT100(1)', 'PT100(2)',\n",
    "              'Lvl_Dim', 'Lvl_Drain', 'V_MPPT', 'V_Panel', 'VBat', 'V_Supp', 'Temp_Oil', 'Temp_gab']\n",
    "cols_temp = ['Timestamp','Module','Type','Temp_Mod', 'VBus']\n",
    "\n",
    "folder_path = 'Data/Radio_Temperatures/'\n",
    "\n",
    "year = ['2017', '2018', '2019', '2020']\n",
    "month = [\"01\", \"02\", \"03\", \"04\" ,\"05\", \"06\", \"07\", \"08\", \"09\", \"10\", \"11\", \"12\"]\n",
    "day = [\"01\", \"02\", \"03\", \"04\", \"05\", \"06\", \"07\", \"08\", \"09\", \"10\", \"11\", \"12\", \"13\", \"14\", \n",
    "     \"15\", \"16\", \"17\", \"18\", \"19\", \"20\", \"21\", \"22\", \"23\", \"24\", \"25\", \"26\", \"27\", \"28\", \"29\", \"30\", \"31\"]"
   ]
  },
  {
   "cell_type": "code",
   "execution_count": 4,
   "metadata": {},
   "outputs": [],
   "source": [
    "def save_data_to_csv(folder_path,year,month,day, save_name='Modules_Temperatures.csv'):\n",
    "    \"\"\"\n",
    "    This function is only to load the data from the folders\n",
    "    and create a sinlge CSV file with all the Readings.\n",
    "    The data starts from 10/2017 and goes until 02/2020\n",
    "    \"\"\"\n",
    "\n",
    "    df = pd.DataFrame(data = None, columns=['Timestamp','Module','Type','Temp_Mod'])\n",
    "\n",
    "    for y in year:\n",
    "        if y == '2017':\n",
    "            for m in month[9:]:\n",
    "                for d in day:\n",
    "                    for module in Modules:\n",
    "                        file_path = folder_path + y + '/' + m + '/' + d + '/' + module + '.txt'\n",
    "                        df_temp = pd.read_csv(file_path, sep='\\t', skiprows=1, names=['Timestamp','T_Mod_Kelv','Temp_Mod'])\n",
    "                        df_temp['Type']= Modules[module]\n",
    "                        df_temp['Module']= module\n",
    "                        df_temp = df_temp[['Timestamp','Module','Type','T_Mod_Kelv','Temp_Mod']]\n",
    "                        df_temp = df_temp.drop('T_Mod_Kelv', axis=1)\n",
    "                        df = pd.concat([df, df_temp], axis=0)\n",
    "                print('Year {} Mont {}'.format(y,m))\n",
    "        else:\n",
    "            for m in month:\n",
    "                for d in day:\n",
    "                    for module in Modules:\n",
    "                        file_path = folder_path + y + '/' + m + '/' + d + '/' + module + '.txt'\n",
    "                        df_temp = pd.read_csv(file_path, sep='\\t', skiprows=1, names=['Timestamp','T_Mod_Kelv','Temp_Mod'])\n",
    "                        df_temp['Type']= Modules[module]\n",
    "                        df_temp['Module']= module\n",
    "                        df_temp = df_temp[['Timestamp','Module','Type','T_Mod_Kelv','Temp_Mod']]\n",
    "                        df_temp = df_temp.drop('T_Mod_Kelv', axis=1)\n",
    "                        df = pd.concat([df, df_temp], axis=0)\n",
    "                print('Year {} Mont {}'.format(y,m))\n",
    "    \n",
    "    df.to_csv(save_name)"
   ]
  },
  {
   "cell_type": "code",
   "execution_count": 5,
   "metadata": {},
   "outputs": [],
   "source": [
    "#save_data_to_csv(folder_path,year,month,day)"
   ]
  },
  {
   "cell_type": "code",
   "execution_count": null,
   "metadata": {},
   "outputs": [],
   "source": []
  }
 ],
 "metadata": {
  "kernelspec": {
   "display_name": "Python 3",
   "language": "python",
   "name": "python3"
  },
  "language_info": {
   "codemirror_mode": {
    "name": "ipython",
    "version": 3
   },
   "file_extension": ".py",
   "mimetype": "text/x-python",
   "name": "python",
   "nbconvert_exporter": "python",
   "pygments_lexer": "ipython3",
   "version": "3.7.4"
  }
 },
 "nbformat": 4,
 "nbformat_minor": 4
}
